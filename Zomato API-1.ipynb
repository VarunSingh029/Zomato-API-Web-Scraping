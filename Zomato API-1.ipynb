{
 "cells": [
  {
   "cell_type": "markdown",
   "metadata": {},
   "source": [
    "### Zomato API- mexican cuisine, restaurants at CP"
   ]
  },
  {
   "cell_type": "code",
   "execution_count": 1,
   "metadata": {},
   "outputs": [],
   "source": [
    "import requests\n",
    "import json       "
   ]
  },
  {
   "cell_type": "code",
   "execution_count": 2,
   "metadata": {},
   "outputs": [],
   "source": [
    "Api_key='dbd3500425c018125fbcc5d11821f095'\n",
    "basic_api='https://developers.zomato.com/api/v2.1'\n"
   ]
  },
  {
   "cell_type": "code",
   "execution_count": 3,
   "metadata": {},
   "outputs": [
    {
     "name": "stdout",
     "output_type": "stream",
     "text": [
      "73\n"
     ]
    }
   ],
   "source": [
    "params={'city_id':1}\n",
    "headers={'user-key':'dbd3500425c018125fbcc5d11821f095'}\n",
    "r=requests.get(basic_api+'/cuisines',headers=headers,params=params)\n",
    "r=r.json()\n",
    "a=r['cuisines']\n",
    "for i in a:\n",
    "    if i['cuisine']['cuisine_name']=='Mexican':\n",
    "        print(i['cuisine']['cuisine_id'])\n"
   ]
  },
  {
   "cell_type": "code",
   "execution_count": 22,
   "metadata": {},
   "outputs": [
    {
     "name": "stdout",
     "output_type": "stream",
     "text": [
      "subzone 104\n"
     ]
    }
   ],
   "source": [
    "params={'query':'Connaught Place'}\n",
    "headers={'user-key':'dbd3500425c018125fbcc5d11821f095'}\n",
    "r=requests.get(basic_api+'/locations',headers=headers,params=params)\n",
    "r=r.json()\n",
    "print(r['location_suggestions'][0]['entity_type'],r['location_suggestions'][0]['entity_id'])"
   ]
  },
  {
   "cell_type": "code",
   "execution_count": 34,
   "metadata": {},
   "outputs": [],
   "source": [
    "params={'query':'Connaught Place','entity_id':104,'entity_type':'subzone'}\n",
    "headers={'user-key':'dbd3500425c018125fbcc5d11821f095'}\n",
    "r=requests.get(basic_api+'/location_details',headers=headers,params=params)\n",
    "r=r.json()\n",
    "r=r['best_rated_restaurant']\n",
    "\n",
    "for i in range(len(r)):\n",
    "    a=r[i]['restaurant']['cuisines'].split(',')\n",
    "    for j in a:\n",
    "        if j=='Mexican':\n",
    "            print(r[i]['restaurant']['name'],r[i]['restaurant']['user_rating']['aggregate_rating'],r[i]['restaurant']['id'])"
   ]
  },
  {
   "cell_type": "code",
   "execution_count": 8,
   "metadata": {},
   "outputs": [
    {
     "name": "stdout",
     "output_type": "stream",
     "text": [
      "6\n"
     ]
    }
   ],
   "source": [
    "r=requests.get(basic_api+'/categories',headers={'user-key':'dbd3500425c018125fbcc5d11821f095'})\n",
    "r=r.json()\n",
    "r=r['categories']\n",
    "for i in range(len(r)):\n",
    "    if r[i]['categories']['name']=='Cafes':\n",
    "        print(r[i]['categories']['id'])"
   ]
  },
  {
   "cell_type": "code",
   "execution_count": 26,
   "metadata": {},
   "outputs": [
    {
     "name": "stdout",
     "output_type": "stream",
     "text": [
      "Chili's Grill & Bar 4.6 18537536\n",
      "38 Barracks 4.6 18241537\n",
      "Ministry Of Beer 4.5 18418277\n",
      "Xero Degrees 4.4 18729557\n",
      "Farzi Cafe 4.3 18233593\n",
      "Bunta Bar Live 4.3 18623406\n",
      "Unplugged Courtyard 4.2 18216901\n",
      "Excuse Me Boss 4.2 307036\n",
      "Punjabi By Nature 4.2 306497\n",
      "The Art House Bar n Cafe 4.2 18863766\n"
     ]
    }
   ],
   "source": [
    "import requests\n",
    "import json\n",
    "\n",
    "data={\"user-key\":\"dbd3500425c018125fbcc5d11821f095\", \"query\":\"Connaught Place\"}\n",
    "h={\"accept\":\"application/json\", \"user_key\":\"dbd3500425c018125fbcc5d11821f095\"}\n",
    "response=requests.get(\"https://developers.zomato.com/api/v2.1/locations\", params=data, headers=h)\n",
    "location=response.json()\n",
    "\n",
    "\n",
    "data={\"user_key\":\"dbd3500425c018125fbcc5d11821f095\", \"entity_id\":\"104\", \"entity_type\":\"subzone\",\n",
    "    \"count\":10, \"cuisines\":\"73\", \"sort\":\"rating\", \"order\":\"desc\"}\n",
    "response=requests.get(\"https://developers.zomato.com/api/v2.1/search\", params=data, headers=h)\n",
    "rest=response.json()\n",
    "\n",
    "\n",
    "l=[]\n",
    "id=[]\n",
    "for i in rest['restaurants']:\n",
    "        l.append([i['restaurant']['name'], i['restaurant']['user_rating'][\"aggregate_rating\"]])\n",
    "        id.append(i['restaurant']['R']['res_id'])\n",
    "\n",
    "count=0\n",
    "for i in range(len(l)):\n",
    "    l[i].append(id[count])\n",
    "    count+=1\n",
    "\n",
    "for i in l:\n",
    "    print(*i)"
   ]
  },
  {
   "cell_type": "code",
   "execution_count": 17,
   "metadata": {},
   "outputs": [
    {
     "name": "stdout",
     "output_type": "stream",
     "text": [
      "Xero Degrees 4.4 18729557\n",
      "The Art House Bar n Cafe 4.2 18863766\n",
      "Cafe Delhi Heights 4.1 18579363\n",
      "Cafe Coffee Day - The Square 3.8 303034\n"
     ]
    }
   ],
   "source": [
    "import requests\n",
    "Api_key='dbd3500425c018125fbcc5d11821f095'\n",
    "basic_api='https://developers.zomato.com/api/v2.1'\n",
    "header={'user-key':Api_key}\n",
    "entity_id=104 # canaught place\n",
    "entity_type='subzone'\n",
    "cuisine_id=73\n",
    "params={'entity_id':entity_id,'entity_type':entity_type,'sort':'rating','cuisines':cuisine_id,'count':10,'category':6}\n",
    "response=requests.get(basic_api+'/search',headers=header,params=params)\n",
    "response=response.json()\n",
    "r=response['restaurants']\n",
    "for i in r:\n",
    "    print(i['restaurant']['name'],i['restaurant']['user_rating']['aggregate_rating'],i['restaurant']['R']['res_id'])\n",
    "\n",
    "    \n",
    "response=requests.get(basic_api+'/reviews',headers=header,params=params)"
   ]
  },
  {
   "cell_type": "code",
   "execution_count": null,
   "metadata": {},
   "outputs": [],
   "source": [
    "print('Foodpsychs 5 Had the popcorn caramel freak shake. Was really amazing. Totally value for money.')\n",
    "print('Crispy Cluck 5 Very good like i like! Tasty food and a good customer service. Better place to try a french fries.')\n",
    "print('Sonali 5 Xero degree is one of my favourite place. The ambience is small but it is amazing. I love there food and presentation even when they do home delivery. The all food 🥘 served their are mouth watering and look fresh. the shakes and coolent are just amazing And peri peri cheezy fries and white sauce pasta are my favourite. And they serve a very different pizza that is jar pizza which they serves in jar with full of cheese 🧀. Highly recommended place.')\n",
    "print('Ayush Bhagat 5 Insane!')\n",
    "print('Hina 4 Great!')"
   ]
  },
  {
   "cell_type": "code",
   "execution_count": 32,
   "metadata": {},
   "outputs": [
    {
     "name": "stdout",
     "output_type": "stream",
     "text": [
      "Foodpsychs 5 Had the popcorn caramel freak shake. Was really amazing. Totally value for money.\n",
      "Crispy Cluck 5 Very good like i like! Tasty food and a good customer service. Better place to try a french fries.\n",
      "Sonali 5 Xero degree is one of my favourite place. The ambience is small but it is amazing. I love there food and presentation even when they do home delivery. The all food 🥘 served their are mouth watering and look fresh. the shakes and coolent are just amazing And peri peri cheezy fries and white sauce pasta are my favourite. And they serve a very different pizza that is jar pizza which they serves in jar with full of cheese 🧀. Highly recommended place.\n",
      "Ayush Bhagat 5 \n",
      "Hina 4 \n"
     ]
    }
   ],
   "source": [
    "import requests\n",
    "Api_key='dbd3500425c018125fbcc5d11821f095'\n",
    "basic_api='https://developers.zomato.com/api/v2.1'\n",
    "header={'user-key':Api_key}\n",
    "\n",
    "response=requests.get(basic_api+'/reviews',headers=header,params={'res_id':18729557})\n",
    "res=response.json()\n",
    "r=res['user_reviews']\n",
    "for i in r:\n",
    "    print(i['review']['user']['name'],i['review']['rating'],i['review']['review_text'])"
   ]
  },
  {
   "cell_type": "markdown",
   "metadata": {},
   "source": [
    "### restaurant 736 AD "
   ]
  },
  {
   "cell_type": "code",
   "execution_count": 51,
   "metadata": {},
   "outputs": [
    {
     "name": "stdout",
     "output_type": "stream",
     "text": [
      "Summer Pavilion\n",
      "Corner House\n",
      "Fratini La Trattoria\n",
      "Basilico\n",
      "Real Taste Restaurant\n",
      "My Awesome Cafe\n",
      "Tippling Club\n",
      "Bistecca Tuscan Steakhouse\n",
      "Symmetry\n",
      "LeVeL33\n",
      "UBQ by Barbeque Nation\n",
      "Zam Zam Fast Food\n",
      "Lolla\n",
      "China Wok\n",
      "Zam Zam\n",
      "Odette\n",
      "Pizza Choice\n",
      "SUKOON BIRYANI CENTER\n",
      "Oso Ristorante\n",
      "Rosso Vino\n"
     ]
    }
   ],
   "source": [
    "import requests\n",
    "Api_key='dbd3500425c018125fbcc5d11821f095'\n",
    "h={'user-key':Api_key}\n",
    "data={'query':'Vijay Nagar','entity_type':'subzone','name':'736 A.D. ','category':14,'cuisines':'50,35,55,25'}\n",
    "basic_api='https://developers.zomato.com/api/v2.1'\n",
    "response=requests.get(\"https://developers.zomato.com/api/v2.1/search\", params=data, headers=h)\n",
    "r=response.json()\n",
    "r=r['restaurants']\n",
    "for i in r:\n",
    "    print(i['restaurant']['name'])"
   ]
  },
  {
   "cell_type": "code",
   "execution_count": 56,
   "metadata": {},
   "outputs": [
    {
     "name": "stdout",
     "output_type": "stream",
     "text": [
      "4.3\n",
      "1400\n",
      "North Indian, Continental, Italian, Chinese\n",
      "G-15/B, Vijay Nagar, New Delhi\n"
     ]
    }
   ],
   "source": [
    "import requests\n",
    "Api_key='dbd3500425c018125fbcc5d11821f095'\n",
    "h={'user-key':Api_key}\n",
    "data={'res_id':18241524}\n",
    "basic_api='https://developers.zomato.com/api/v2.1'\n",
    "response=requests.get(\"https://developers.zomato.com/api/v2.1/restaurant\", params=data, headers=h)\n",
    "r=response.json()\n",
    "print(r['user_rating']['aggregate_rating'])\n",
    "print(r['average_cost_for_two'])\n",
    "print(r['cuisines'])\n",
    "print(r['location']['address'])"
   ]
  },
  {
   "cell_type": "code",
   "execution_count": null,
   "metadata": {},
   "outputs": [],
   "source": [
    "import requests\n",
    "Api_key='dbd3500425c018125fbcc5d11821f095'\n",
    "h={'user-key':Api_key}\n",
    "data={'res_id':18241524}\n",
    "basic_api='https://developers.zomato.com/api/v2.1'\n",
    "response=requests.get(\"https://developers.zomato.com/api/v2.1/restaurant\", params=data, headers=h)\n",
    "r=response.json()\n",
    "if r['is_table_reservation_supported']==0:\n",
    "    print('no')\n",
    "else:\n",
    "    print('yes')"
   ]
  },
  {
   "cell_type": "code",
   "execution_count": 60,
   "metadata": {},
   "outputs": [
    {
     "name": "stdout",
     "output_type": "stream",
     "text": [
      "Palak Sharma 4 \n",
      "Ankita Sharma | Geographyedible 😎✌️ 5 All time favourite place ♥️💝\n",
      "Lavanya Kv 4 \n",
      "Foodieszonee 4 It’s a very nice place to hangout and has a very nice ambience, great dj and the food was very good must try white sauce pasta.  Good and fast service also reasonable price.\n",
      "Prerana Verma 5 \n"
     ]
    }
   ],
   "source": [
    "import requests\n",
    "Api_key='dbd3500425c018125fbcc5d11821f095'\n",
    "basic_api='https://developers.zomato.com/api/v2.1'\n",
    "header={'user-key':Api_key}\n",
    "\n",
    "response=requests.get(basic_api+'/reviews',headers=header,params={'res_id':18241524})\n",
    "res=response.json()\n",
    "r=res['user_reviews']\n",
    "for i in r:\n",
    "    print(i['review']['user']['name'],i['review']['rating'],i['review']['review_text'])"
   ]
  },
  {
   "cell_type": "markdown",
   "metadata": {},
   "source": [
    "### Distance"
   ]
  },
  {
   "cell_type": "code",
   "execution_count": null,
   "metadata": {},
   "outputs": [],
   "source": [
    "28.697831, 77.140648"
   ]
  },
  {
   "cell_type": "code",
   "execution_count": 77,
   "metadata": {},
   "outputs": [
    {
     "name": "stdout",
     "output_type": "stream",
     "text": [
      "Themis Barbecue House 4.5 18204820 Netaji Subhash Place\n",
      "Barbeque Nation 4.1 9561 Netaji Subhash Place\n",
      "New Bombay Bar-Be-Que 3.6 5303 Prashant Vihar\n",
      "Amazings Kitchen 0 19370424 Prashant Vihar\n",
      "UBQ by Barbeque Nation 3.7 19082741 Lawrence Road\n",
      "Moet's Barbeque 0 19238917 Alipur\n",
      "UBQ by Barbeque Nation 3.8 18889760 Rohini\n",
      "Kays Bar-Be-Que 3.8 3079 Ashok Vihar Phase 1\n",
      "7teen BBQ Bistro Bnq 3.8 18595610 Moti Nagar\n",
      "Pishori Chicken 0 19061375 Kirti Nagar\n"
     ]
    }
   ],
   "source": [
    "import requests\n",
    "Api_key='dbd3500425c018125fbcc5d11821f095'\n",
    "basic_api='https://developers.zomato.com/api/v2.1'\n",
    "header={'user-key':Api_key}\n",
    "\n",
    "cuisine_id=193\n",
    "params={'lat':28.697831,'lon':77.140648,'order':'desc','sort':'real_distance','cuisines':cuisine_id,'count':10}\n",
    "response=requests.get(basic_api+'/search',headers=header,params=params)\n",
    "response=response.json()\n",
    "r=response['restaurants']\n",
    "for i in r:\n",
    "    print(i['restaurant']['name'],i['restaurant']['user_rating']['aggregate_rating'],\n",
    "          i['restaurant']['id'],i['restaurant']['location']['locality'])"
   ]
  },
  {
   "cell_type": "code",
   "execution_count": 80,
   "metadata": {},
   "outputs": [
    {
     "name": "stdout",
     "output_type": "stream",
     "text": [
      "ANNANT VASHIST 5 I celebrated my bday in Themis barbecue . I enjoyed a lot and the staff was really good nd the food is very delicious .\n",
      "Thatcravingfoodie 4 Visited them last month. On entering, you realise that the indoor seating area is not that spacious. I wanted to be seated outdoors, but then it's only allowed for dinner time. I wasn't very taken by the ambiance.  Coming to the food, I opted for the non-vegetarian buffet option. For drinks, I chose a litchi based mocktail. You could also go for beer or whisky which I think I should have chosen too, now that I think of it. But there's no use crying over spilled milk now. So coming back to my litchi mocktail, let me say it was awesome. Tart and sweet and zingy. Was a pleasant accompaniment to the starters. I really liked the chilly fish, chicken tikka, crispy corn. Cajun potatoes lacked that kick and mutton seekh was really dry. The paneer tikka too wasn't flavourful enough. And the pizza base was very tough.  The main course was so delicious. I am a manchow soup lover. And I helped myself to bowls of the veg manchow soup. Then I came across chicken hot and sour soup and gobbled that up too. I also tried different salads I think you could and should skip them. The chicken biryani and mutton rogan josh warmed up my soul with their distinctly spiced flavours. The biryani deserves special mention with the overwhelming aroma of whole spices and chunky chicken pieces. The rogan josh curry was hot and spicy and I was satisfied then and there. Nevertheless, greed occupied me again while going through other dishes and this time I helped myself to hakka chowmein and stir fried veggies in basil chilly sauce (yeah it's veg. Don't be surprised). The veggie gravy was utterly savoury and had so much going on. Sweet, sour, salty, that fresh basil hit. And by then I realised I was almost full and had to end my main course eating spree.  Coming to desserts, gulab jamuns were soul warming. The chocolate pastry was lush and bitter and kept me wanting more. The tarts were creamy and crumbley. Delicious. Moong dal halwa was all ghee and nuts and heavenly. And the strawberry ice cream was creamy and screamed fresh strawberries and not the artificial colour and flavour stuff.  Overall, it was a decent experience. Although I think cutting out the live music part during afternoons wouldn't be a bad idea afterall. It felt kinda loud and claustrophobic. The service was not bad. The prices were moderate. I paid 1300+ for two non-veg lunch buffets.\n",
      "Medhavi 5 Enjoyed a wide range of dishes at this buffet outlet with aesthetic interiors and designer exteriors. Scrumptious barbeque starters with grilled chicken,fish tikka in skewers on the table. Sipped on a variety of mocktails plus the singer was there to entertain throughout our time there. The main course dishes were made very well with excellent sea food, dum biryani , paneer dishes, types of breads and exquisite desserts to choose from namely white chocolate brownie , pineapple pastries , truffle cake and cut fruits. Would definitely recommend to one and all.\n",
      "Piyush Matreja 5 Live singing, spectacular ambience and every one enjoying to the grilled kebabs on their table, that's Themis barbeque all about. Based on the concept of buffet where you start with snacks on the table with cool mocktails. I tried the lemon ice tea and charred prawns tikka as well as chicken malai tikka ,their non veg starters were great. Main course I had mutton rogan josh with lachha parantha and enjoyed a few of my favourite desserts namely strawberry tarts and a chocolate truffle cake with cherries. I must say that was a good lunch I relished after long.\n",
      "Kimaya Divya 5 A place offering a buffet concept in the northern part of Delhi, with live music , a dj set up, comfortable seating. They have a set up of a grill hot plate with food grilled on skewers. We opted for non veg set up and ate prawns , chicken malai tikka , tandoori chicken in the hot portion, while chilly fish ,pizzas and mutton seekh kebab were served separately. The main course had lots of variety with dal Makhani, paneer kadhai , mix vegetable, chicken pilaf ,mutton rogan josh. The restaurant did their level best and made our time a memorable one.\n"
     ]
    }
   ],
   "source": [
    "import requests\n",
    "Api_key='dbd3500425c018125fbcc5d11821f095'\n",
    "basic_api='https://developers.zomato.com/api/v2.1'\n",
    "header={'user-key':Api_key}\n",
    "\n",
    "response=requests.get(basic_api+'/reviews',headers=header,params={'res_id':18204820,\n",
    "                    'lat':28.697831,'lon':77.140648,'order':'desc','sort':'real_distance','cuisines':193})\n",
    "res=response.json()\n",
    "r=res['user_reviews']\n",
    "for i in r:\n",
    "    print(i['review']['user']['name'],i['review']['rating'],i['review']['review_text'])"
   ]
  },
  {
   "cell_type": "code",
   "execution_count": 83,
   "metadata": {},
   "outputs": [
    {
     "name": "stdout",
     "output_type": "stream",
     "text": [
      "Ah So Yum 4.9 18945610 Golf Course Road\n",
      "Oishii Wok 4.9 19078918 DLF Phase 4\n",
      "Indian Accent 4.9 2004 The Lodhi, Lodhi Road\n",
      "Dana Choga 4.9 549 Sector 14\n",
      "Son Of A Bun 4.9 19300210 Golf Course Road\n",
      "Chili's Grill & Bar 4.9 18607069 Pacific Mall, Tagore Garden\n",
      "The Tandoori Tales 4.9 19231934 Sector 45\n",
      "Cafe Wink 4.8 7224 Anand Vihar\n",
      "Master Koii's 4.8 18819947 Sushant Lok\n",
      "Chili's Grill & Bar 4.8 4751 Ambience Mall, Vasant Kunj\n"
     ]
    }
   ],
   "source": [
    "import requests\n",
    "Api_key='dbd3500425c018125fbcc5d11821f095'\n",
    "basic_api='https://developers.zomato.com/api/v2.1'\n",
    "header={'user-key':Api_key}\n",
    "\n",
    "cuisine_id=193\n",
    "params={'lat':28.697831,'lon':77.140648,'radius':4000,'order':'desc','sort':'rating',\n",
    "        'count':10}\n",
    "response=requests.get(basic_api+'/search',headers=header,params=params)\n",
    "response=response.json()\n",
    "r=response['restaurants']\n",
    "for i in r:\n",
    "    print(i['restaurant']['name'],i['restaurant']['user_rating']['aggregate_rating'],\n",
    "          i['restaurant']['id'],i['restaurant']['location']['locality'])"
   ]
  },
  {
   "cell_type": "code",
   "execution_count": null,
   "metadata": {},
   "outputs": [],
   "source": []
  }
 ],
 "metadata": {
  "kernelspec": {
   "display_name": "Python 3",
   "language": "python",
   "name": "python3"
  },
  "language_info": {
   "codemirror_mode": {
    "name": "ipython",
    "version": 3
   },
   "file_extension": ".py",
   "mimetype": "text/x-python",
   "name": "python",
   "nbconvert_exporter": "python",
   "pygments_lexer": "ipython3",
   "version": "3.8.3"
  }
 },
 "nbformat": 4,
 "nbformat_minor": 2
}
